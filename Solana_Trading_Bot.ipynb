{
 "cells": [
  {
   "cell_type": "code",
   "execution_count": 7,
   "id": "6b4efbcd",
   "metadata": {},
   "outputs": [],
   "source": [
    "# Import required libraries\n",
    "import os\n",
    "import json\n",
    "import time\n",
    "import requests\n",
    "from bs4 import BeautifulSoup\n",
    "from solana.rpc.async_api import AsyncClient\n",
    "from solana.transaction import Transaction\n",
    "from solana.keypair import Keypair\n",
    "from spl.token.client import Token\n",
    "from base58 import b58decode"
   ]
  },
  {
   "cell_type": "code",
   "execution_count": null,
   "id": "9c6e941d",
   "metadata": {},
   "outputs": [],
   "source": [
    "# Load environment variables\n",
    "\n",
    "PRIVATE_KEY = \"\"\n",
    "RPC_URL = \"https://api.mainnet-beta.solana.com\""
   ]
  },
  {
   "cell_type": "code",
   "execution_count": 9,
   "id": "09d90261",
   "metadata": {},
   "outputs": [],
   "source": [
    "# Initialize Solana connection and wallet\n",
    "async_client = AsyncClient(RPC_URL)\n",
    "private_key_bytes = b58decode(PRIVATE_KEY)\n",
    "wallet = Keypair.from_secret_key(bytes(private_key_bytes))"
   ]
  },
  {
   "cell_type": "code",
   "execution_count": 22,
   "id": "2548249a",
   "metadata": {},
   "outputs": [],
   "source": [
    "# Parse Twitter for tickers (placeholder function)\n",
    "import asyncio\n",
    "import websockets\n",
    "import json\n",
    "\n",
    "async def subscribe_to_pump_fun():\n",
    "    \"\"\"\n",
    "    Subscribe to Pump.fun token creation events and return token mint addresses.\n",
    "    \"\"\"\n",
    "    uri = \"wss://pumpportal.fun/api/data\"\n",
    "    token_mint_addresses = []  # List to store token mint addresses\n",
    "\n",
    "    async with websockets.connect(uri) as websocket:\n",
    "        # Subscribing to token creation events\n",
    "        payload = {\"method\": \"subscribeNewToken\"}\n",
    "        await websocket.send(json.dumps(payload))\n",
    "\n",
    "        # Listen for messages and process token creation events\n",
    "        async for message in websocket:\n",
    "            data = json.loads(message)\n",
    "\n",
    "            # Check if the message contains new token creation event\n",
    "            if data.get(\"event\") == \"newTokenCreated\":\n",
    "                token_mint = data.get(\"tokenMintAddress\")\n",
    "                if token_mint:\n",
    "                    print(f\"New token created: {token_mint}\")\n",
    "                    token_mint_addresses.append(token_mint)\n",
    "\n",
    "            # Stop listening after a certain number of tokens (or some condition)\n",
    "            if len(token_mint_addresses) >= 10:  # Example: Stop after 10 tokens\n",
    "                break\n",
    "\n",
    "    return token_mint_addresses\n",
    "\n",
    "def parse_twitter():\n",
    "    return asyncio.run(subscribe_to_pump_fun())\n"
   ]
  },
  {
   "cell_type": "code",
   "execution_count": 11,
   "id": "1173b8e6",
   "metadata": {},
   "outputs": [],
   "source": [
    "# Search for token on Pump.fun\n",
    "def search_pump_fun(contract_address):\n",
    "    \"\"\"\n",
    "    Search Pump.fun for a given contract address.\n",
    "    \"\"\"\n",
    "    url = f\"https://pump.fun/board/{contract_address}\"\n",
    "    headers = {\"User-Agent\": \"Mozilla/5.0\"}\n",
    "    response = requests.get(url, headers=headers)\n",
    "    if response.status_code == 200:\n",
    "        return response.text\n",
    "    else:\n",
    "        print(f\"Pump.fun search failed for {contract_address}. Status code: {response.status_code}\")\n",
    "        return None"
   ]
  },
  {
   "cell_type": "code",
   "execution_count": 12,
   "id": "39780a44",
   "metadata": {},
   "outputs": [],
   "source": [
    "# Fetch data from Dexscreener\n",
    "def get_token_price(token_address):\n",
    "    response = requests.get(f\"https://api.dexscreener.com/latest/dex/tokens/{token_address}\")\n",
    "    if response.status_code == 200:\n",
    "        data = response.json()\n",
    "        return float(data['pairs'][0]['priceUsd'])\n",
    "    raise ValueError(f\"Error fetching price for token {token_address}\")"
   ]
  },
  {
   "cell_type": "code",
   "execution_count": 13,
   "id": "450c704f",
   "metadata": {},
   "outputs": [],
   "source": [
    "# Get Solsniffer contract score\n",
    "def get_sol_sniffer_score(contract_address):\n",
    "    \"\"\"\n",
    "    Fetch the contract score from Solsniffer.\n",
    "    \"\"\"\n",
    "    url = f\"https://solsniffer.com/{contract_address}\"\n",
    "    headers = {\"User-Agent\": \"Mozilla/5.0\"}\n",
    "    response = requests.get(url, headers=headers)\n",
    "    if response.status_code == 200:\n",
    "        soup = BeautifulSoup(response.text, \"html.parser\")\n",
    "        score_element = soup.find(\"div\", class_=\"contract-score\")\n",
    "        if score_element:\n",
    "            try:\n",
    "                return float(score_element.text.strip())\n",
    "            except ValueError:\n",
    "                print(f\"Error parsing score for {contract_address}\")\n",
    "                return None\n",
    "        else:\n",
    "            print(f\"Score not found for contract {contract_address}\")\n",
    "            return None\n",
    "    else:\n",
    "        print(f\"Failed to fetch data for contract {contract_address}. Status code: {response.status_code}\")\n",
    "        return None"
   ]
  },
  {
   "cell_type": "code",
   "execution_count": 14,
   "id": "28a6fcd7",
   "metadata": {},
   "outputs": [],
   "source": [
    "# Buy token\n",
    "async def buy_token(token_mint_address, amount_in_sol=0.01, slippage=15):\n",
    "    print(f\"Buying {amount_in_sol} SOL worth of token {token_mint_address} with {slippage}% slippage...\")"
   ]
  },
  {
   "cell_type": "code",
   "execution_count": 15,
   "id": "99678166",
   "metadata": {},
   "outputs": [],
   "source": [
    "# Sell token\n",
    "async def sell_token(token_mint_address, leave_moonbag=0.15, slippage=15):\n",
    "    print(f\"Selling token {token_mint_address} while leaving {leave_moonbag * 100}% moonbag and using {slippage}% slippage...\")"
   ]
  },
  {
   "cell_type": "code",
   "execution_count": 23,
   "id": "8017c17c",
   "metadata": {},
   "outputs": [],
   "source": [
    "# Monitor token price for take-profit levels\n",
    "async def monitor_price_and_sell(token_address, buy_price, profit_multiplier=10, leave_moonbag=0.15):\n",
    "    while True:\n",
    "        try:\n",
    "            current_price = get_token_price(token_address)\n",
    "            if current_price >= buy_price * profit_multiplier:\n",
    "                print(f\"Price target reached: {current_price} USD (10x of {buy_price} USD). Selling...\")\n",
    "                await sell_token(token_address, leave_moonbag=leave_moonbag)\n",
    "                break\n",
    "            else:\n",
    "                print(f\"Current price: {current_price} USD. Waiting for 10x.\")\n",
    "        except Exception as e:\n",
    "            print(f\"Error monitoring price: {e}\")\n",
    "        time.sleep(60)  # Check every minute"
   ]
  },
  {
   "cell_type": "code",
   "execution_count": 26,
   "id": "ff99ad37",
   "metadata": {},
   "outputs": [],
   "source": [
    "# Main workflow\n",
    "async def main():\n",
    "    # Step 1: Parse Twitter for tokens\n",
    "    tokens = parse_twitter()\n",
    "    for token in tokens:\n",
    "        print(f\"Found token: {token}\")\n",
    "\n",
    "        # Step 2: Search Pump.fun and Dexscreener\n",
    "        pump_data = search_pump_fun(token)\n",
    "        print(f\"Pump.fun data: {pump_data}\")\n",
    "\n",
    "        # Initialize current_price\n",
    "        current_price = None\n",
    "\n",
    "        try:\n",
    "            current_price = get_token_price(token)\n",
    "            print(f\"Dexscreener price for {token}: {current_price}\")\n",
    "        except Exception as e:\n",
    "            print(f\"Error fetching Dexscreener data for {token}: {e}\")\n",
    "\n",
    "        if current_price is None:\n",
    "            print(f\"Skipping token {token} due to missing price data.\")\n",
    "            continue\n",
    "\n",
    "        # Step 3: Check contract score via Solsniffer\n",
    "        score = get_sol_sniffer_score(token)\n",
    "        if score is not None and score < 85:\n",
    "            print(f\"Low Solsniffer score ({score}) for token {token}. Skipping...\")\n",
    "            continue\n",
    "\n",
    "        # Step 4: Buy the token\n",
    "        await buy_token(token, amount_in_sol=1, slippage=15)\n",
    "\n",
    "        # Step 5: Monitor price and sell at 10x\n",
    "        buy_price = current_price\n",
    "        await monitor_price_and_sell(token, buy_price, profit_multiplier=10, leave_moonbag=0.15)\n"
   ]
  },
  {
   "cell_type": "code",
   "execution_count": 27,
   "id": "fc1947c4",
   "metadata": {},
   "outputs": [
    {
     "name": "stderr",
     "output_type": "stream",
     "text": [
      "Task exception was never retrieved\n",
      "future: <Task finished name='Task-6' coro=<main() done, defined at /var/folders/sy/1nr3d4256xg9rwg4pwh9cpl80000gn/T/ipykernel_47110/969673130.py:2> exception=RuntimeError('asyncio.run() cannot be called from a running event loop')>\n",
      "Traceback (most recent call last):\n",
      "  File \"/var/folders/sy/1nr3d4256xg9rwg4pwh9cpl80000gn/T/ipykernel_47110/969673130.py\", line 4, in main\n",
      "    tokens = parse_twitter()\n",
      "             ^^^^^^^^^^^^^^^\n",
      "  File \"/var/folders/sy/1nr3d4256xg9rwg4pwh9cpl80000gn/T/ipykernel_47110/3285979297.py\", line 36, in parse_twitter\n",
      "    return asyncio.run(subscribe_to_pump_fun())\n",
      "           ^^^^^^^^^^^^^^^^^^^^^^^^^^^^^^^^^^^^\n",
      "  File \"/opt/anaconda3/lib/python3.12/asyncio/runners.py\", line 190, in run\n",
      "    raise RuntimeError(\n",
      "RuntimeError: asyncio.run() cannot be called from a running event loop\n"
     ]
    },
    {
     "name": "stdout",
     "output_type": "stream",
     "text": [
      "Detected running event loop. Using `asyncio.create_task()`.\n"
     ]
    },
    {
     "name": "stderr",
     "output_type": "stream",
     "text": [
      "/var/folders/sy/1nr3d4256xg9rwg4pwh9cpl80000gn/T/ipykernel_47110/316474377.py:11: RuntimeWarning: coroutine 'subscribe_to_pump_fun' was never awaited\n",
      "  task = asyncio.create_task(main())\n",
      "RuntimeWarning: Enable tracemalloc to get the object allocation traceback\n"
     ]
    }
   ],
   "source": [
    "# Run the script\n",
    "import asyncio\n",
    "try:\n",
    "    loop = asyncio.get_running_loop()\n",
    "except RuntimeError:\n",
    "    loop = None\n",
    "\n",
    "if loop and loop.is_running():\n",
    "    # If an event loop is running, schedule the coroutine\n",
    "    print(\"Detected running event loop. Using `asyncio.create_task()`.\")\n",
    "    task = asyncio.create_task(main())\n",
    "else:\n",
    "    # If no event loop is running, start one\n",
    "    asyncio.run(main())"
   ]
  },
  {
   "cell_type": "code",
   "execution_count": null,
   "id": "658c15c8-88dc-4655-b455-e8e5cadb47d4",
   "metadata": {},
   "outputs": [],
   "source": []
  },
  {
   "cell_type": "code",
   "execution_count": null,
   "id": "5757e8d4-5611-4108-883d-7a20ea312516",
   "metadata": {},
   "outputs": [],
   "source": []
  }
 ],
 "metadata": {
  "kernelspec": {
   "display_name": "Python 3 (ipykernel)",
   "language": "python",
   "name": "python3"
  },
  "language_info": {
   "codemirror_mode": {
    "name": "ipython",
    "version": 3
   },
   "file_extension": ".py",
   "mimetype": "text/x-python",
   "name": "python",
   "nbconvert_exporter": "python",
   "pygments_lexer": "ipython3",
   "version": "3.12.7"
  }
 },
 "nbformat": 4,
 "nbformat_minor": 5
}
